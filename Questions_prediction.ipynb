{
 "cells": [
  {
   "cell_type": "code",
   "execution_count": 1,
   "metadata": {
    "collapsed": false
   },
   "outputs": [
    {
     "name": "stderr",
     "output_type": "stream",
     "text": [
      "Using TensorFlow backend.\n"
     ]
    }
   ],
   "source": [
    "# Import necessary packages\n",
    "import pandas as pd\n",
    "import numpy as np\n",
    "import keras\n",
    "import matplotlib.pyplot as plt\n",
    "%matplotlib inline\n",
    "from sklearn.model_selection import train_test_split\n",
    "\n",
    "\n",
    "from keras.models import Sequential\n",
    "from keras.layers import Dense, Dropout, LSTM, Activation\n",
    "from sklearn.preprocessing import StandardScaler\n",
    "from keras.optimizers import RMSprop, SGD"
   ]
  },
  {
   "cell_type": "code",
   "execution_count": 2,
   "metadata": {
    "collapsed": false
   },
   "outputs": [],
   "source": [
    "# Read the preprocessed dataset\n",
    "questions = pd.read_csv('questions_final_dataset.csv')"
   ]
  },
  {
   "cell_type": "code",
   "execution_count": 3,
   "metadata": {
    "collapsed": false
   },
   "outputs": [],
   "source": [
    "questions.pop('Unnamed: 0')\n",
    "y = questions.pop('is_duplicate')"
   ]
  },
  {
   "cell_type": "code",
   "execution_count": 4,
   "metadata": {
    "collapsed": true
   },
   "outputs": [],
   "source": [
    "# Split into train and test dataset\n",
    "questions_train, questions_test, y_train, y_test = train_test_split(questions, y, test_size = 0.4, random_state = 11)"
   ]
  },
  {
   "cell_type": "code",
   "execution_count": 5,
   "metadata": {
    "collapsed": false
   },
   "outputs": [
    {
     "data": {
      "text/plain": [
       "58519     548293\n",
       "83244     273710\n",
       "101224    686574\n",
       "49791     290678\n",
       "253870    452217\n",
       "109902    363322\n",
       "45686     137075\n",
       "83300      54269\n",
       "244614    378773\n",
       "117859    591367\n",
       "287682    739276\n",
       "284125    409184\n",
       "58850     213484\n",
       "276949    262037\n",
       "213361    580652\n",
       "17777     380820\n",
       "98087     630033\n",
       "133316    773302\n",
       "250949    557091\n",
       "83993     500216\n",
       "165825    326633\n",
       "249865    194592\n",
       "235750    240271\n",
       "176005    690344\n",
       "270278    513255\n",
       "89775     731674\n",
       "158156    535096\n",
       "20273     232411\n",
       "108318      7359\n",
       "226239    250563\n",
       "           ...  \n",
       "82118     737772\n",
       "212075    145489\n",
       "276423     50885\n",
       "274239    725246\n",
       "175588    362677\n",
       "84321     595374\n",
       "77476      43337\n",
       "84329     512574\n",
       "219764    767925\n",
       "18013     387857\n",
       "148277    101954\n",
       "261505    279006\n",
       "45684     643178\n",
       "280204    603278\n",
       "83457     677147\n",
       "293505    721412\n",
       "71154     197525\n",
       "150508    379723\n",
       "75131     348091\n",
       "101612    668069\n",
       "254004    146939\n",
       "68852      87540\n",
       "82109     304142\n",
       "221552    281890\n",
       "110751    185398\n",
       "242915    532590\n",
       "93024     122879\n",
       "181115    774400\n",
       "184057    478991\n",
       "189862    580358\n",
       "Name: qid2, dtype: int64"
      ]
     },
     "execution_count": 5,
     "metadata": {},
     "output_type": "execute_result"
    }
   ],
   "source": [
    "X_train = questions_train\n",
    "X_test = questions_test\n",
    "\n",
    "X_train.pop('id')\n",
    "X_train.pop('qid1')\n",
    "X_train.pop('qid2')\n",
    "\n",
    "X_test.pop('id')\n",
    "X_test.pop('qid1')\n",
    "X_test.pop('qid2')\n"
   ]
  },
  {
   "cell_type": "markdown",
   "metadata": {},
   "source": [
    "# Scaling\n"
   ]
  },
  {
   "cell_type": "code",
   "execution_count": 6,
   "metadata": {
    "collapsed": true
   },
   "outputs": [],
   "source": [
    "ss = StandardScaler()"
   ]
  },
  {
   "cell_type": "code",
   "execution_count": 7,
   "metadata": {
    "collapsed": true
   },
   "outputs": [],
   "source": [
    "X_train = ss.fit_transform(X_train)"
   ]
  },
  {
   "cell_type": "code",
   "execution_count": 8,
   "metadata": {
    "collapsed": false
   },
   "outputs": [],
   "source": [
    "X_test = ss.transform(X_test)"
   ]
  },
  {
   "cell_type": "markdown",
   "metadata": {},
   "source": [
    "# Deep Learning"
   ]
  },
  {
   "cell_type": "code",
   "execution_count": 9,
   "metadata": {
    "collapsed": false
   },
   "outputs": [],
   "source": [
    "# Build the neural network\n",
    "model = Sequential()\n",
    "model.add(Dense(10,input_dim=2))\n",
    "model.add(Activation('relu'))\n",
    "model.add(Dense(5))\n",
    "model.add(Activation('relu'))\n",
    "model.add(Dense(1))\n",
    "model.add(Activation('sigmoid'))"
   ]
  },
  {
   "cell_type": "code",
   "execution_count": 30,
   "metadata": {
    "collapsed": false
   },
   "outputs": [],
   "source": [
    "sgd = SGD(lr=0.01, clipnorm=1.0, clipvalue = 0.5)\n",
    "model.compile(optimizer = sgd ,loss = 'binary_crossentropy')"
   ]
  },
  {
   "cell_type": "code",
   "execution_count": 31,
   "metadata": {
    "collapsed": false
   },
   "outputs": [
    {
     "name": "stdout",
     "output_type": "stream",
     "text": [
      "Train on 162000 samples, validate on 18000 samples\n",
      "Epoch 1/10\n",
      "162000/162000 [==============================] - 4s - loss: 0.5395 - val_loss: 0.5431\n",
      "Epoch 2/10\n",
      "162000/162000 [==============================] - 3s - loss: 0.5395 - val_loss: 0.5432\n",
      "Epoch 3/10\n",
      "162000/162000 [==============================] - 3s - loss: 0.5394 - val_loss: 0.5431\n",
      "Epoch 4/10\n",
      "162000/162000 [==============================] - 3s - loss: 0.5394 - val_loss: 0.5430\n",
      "Epoch 5/10\n",
      "162000/162000 [==============================] - 3s - loss: 0.5393 - val_loss: 0.5429\n",
      "Epoch 6/10\n",
      "162000/162000 [==============================] - 3s - loss: 0.5393 - val_loss: 0.5429\n",
      "Epoch 7/10\n",
      "162000/162000 [==============================] - 3s - loss: 0.5393 - val_loss: 0.5430\n",
      "Epoch 8/10\n",
      "162000/162000 [==============================] - 3s - loss: 0.5393 - val_loss: 0.5431\n",
      "Epoch 9/10\n",
      "162000/162000 [==============================] - 3s - loss: 0.5392 - val_loss: 0.5431\n",
      "Epoch 10/10\n",
      "162000/162000 [==============================] - 2s - loss: 0.5392 - val_loss: 0.5430\n"
     ]
    }
   ],
   "source": [
    "# Fit model\n",
    "history = model.fit(X_train,y_train,batch_size =64, nb_epoch = 10, verbose=1, validation_split=0.1)"
   ]
  },
  {
   "cell_type": "code",
   "execution_count": 32,
   "metadata": {
    "collapsed": false
   },
   "outputs": [],
   "source": [
    "# Predict on test dataset\n",
    "y_pred = model.predict(X_test)"
   ]
  },
  {
   "cell_type": "code",
   "execution_count": 33,
   "metadata": {
    "collapsed": false
   },
   "outputs": [
    {
     "data": {
      "text/plain": [
       "(120000, 1)"
      ]
     },
     "execution_count": 33,
     "metadata": {},
     "output_type": "execute_result"
    }
   ],
   "source": [
    "y_pred.shape"
   ]
  },
  {
   "cell_type": "code",
   "execution_count": 34,
   "metadata": {
    "collapsed": false
   },
   "outputs": [
    {
     "name": "stdout",
     "output_type": "stream",
     "text": [
      "0.676433333333\n"
     ]
    }
   ],
   "source": [
    "# Determine accuracy score on test dataset\n",
    "from sklearn import metrics\n",
    "accuracy = metrics.accuracy_score(y_test, np.round(y_pred))\n",
    "print(accuracy)"
   ]
  },
  {
   "cell_type": "markdown",
   "metadata": {},
   "source": [
    "# Random Forests\n"
   ]
  },
  {
   "cell_type": "code",
   "execution_count": 15,
   "metadata": {
    "collapsed": false
   },
   "outputs": [],
   "source": [
    "from sklearn.ensemble import RandomForestClassifier\n",
    "from sklearn.model_selection import GridSearchCV\n",
    "from sklearn import metrics\n",
    "acc = metrics.make_scorer(metrics.accuracy_score)"
   ]
  },
  {
   "cell_type": "code",
   "execution_count": 16,
   "metadata": {
    "collapsed": false
   },
   "outputs": [],
   "source": [
    "RFC = RandomForestClassifier(n_estimators=2048, n_jobs = 4, random_state = 5)"
   ]
  },
  {
   "cell_type": "code",
   "execution_count": 17,
   "metadata": {
    "collapsed": false
   },
   "outputs": [
    {
     "data": {
      "text/plain": [
       "RandomForestClassifier(bootstrap=True, class_weight=None, criterion='gini',\n",
       "            max_depth=None, max_features='auto', max_leaf_nodes=None,\n",
       "            min_impurity_split=1e-07, min_samples_leaf=1,\n",
       "            min_samples_split=2, min_weight_fraction_leaf=0.0,\n",
       "            n_estimators=2048, n_jobs=4, oob_score=False, random_state=5,\n",
       "            verbose=0, warm_start=False)"
      ]
     },
     "execution_count": 17,
     "metadata": {},
     "output_type": "execute_result"
    }
   ],
   "source": [
    "# Fit the model on the train dataset\n",
    "RFC.fit(X_train,y_train)"
   ]
  },
  {
   "cell_type": "code",
   "execution_count": 18,
   "metadata": {
    "collapsed": false
   },
   "outputs": [],
   "source": [
    "# Predict values for test dataset\n",
    "y_pred = RFC.predict(X_test)"
   ]
  },
  {
   "cell_type": "code",
   "execution_count": 19,
   "metadata": {
    "collapsed": false
   },
   "outputs": [
    {
     "name": "stdout",
     "output_type": "stream",
     "text": [
      "0.678608333333\n"
     ]
    }
   ],
   "source": [
    "# Determine accuracy score on test dataset\n",
    "from sklearn import metrics\n",
    "accuracy = metrics.accuracy_score(y_test, y_pred)\n",
    "print(accuracy)"
   ]
  },
  {
   "cell_type": "code",
   "execution_count": null,
   "metadata": {
    "collapsed": false
   },
   "outputs": [],
   "source": []
  },
  {
   "cell_type": "code",
   "execution_count": null,
   "metadata": {
    "collapsed": false
   },
   "outputs": [],
   "source": [
    "\n"
   ]
  },
  {
   "cell_type": "code",
   "execution_count": null,
   "metadata": {
    "collapsed": false
   },
   "outputs": [],
   "source": []
  },
  {
   "cell_type": "code",
   "execution_count": null,
   "metadata": {
    "collapsed": false
   },
   "outputs": [],
   "source": []
  },
  {
   "cell_type": "code",
   "execution_count": null,
   "metadata": {
    "collapsed": true
   },
   "outputs": [],
   "source": []
  }
 ],
 "metadata": {
  "anaconda-cloud": {},
  "kernelspec": {
   "display_name": "Python [Root]",
   "language": "python",
   "name": "Python [Root]"
  },
  "language_info": {
   "codemirror_mode": {
    "name": "ipython",
    "version": 3
   },
   "file_extension": ".py",
   "mimetype": "text/x-python",
   "name": "python",
   "nbconvert_exporter": "python",
   "pygments_lexer": "ipython3",
   "version": "3.5.2"
  }
 },
 "nbformat": 4,
 "nbformat_minor": 0
}
